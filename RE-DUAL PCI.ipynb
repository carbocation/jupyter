{
 "cells": [
  {
   "cell_type": "code",
   "execution_count": 1,
   "metadata": {},
   "outputs": [
    {
     "data": {
      "text/plain": [
       "\n",
       "\tPearson's Chi-squared test\n",
       "\n",
       "data:  M\n",
       "X-squared = 7.6191, df = 2, p-value = 0.02216\n"
      ]
     },
     "metadata": {},
     "output_type": "display_data"
    },
    {
     "data": {
      "text/plain": [
       "           arm\n",
       "status      Dabi 110 Dabi 150 Warfarin\n",
       "  No stroke      907      711      880\n",
       "  Stroke          74       52      100"
      ]
     },
     "metadata": {},
     "output_type": "display_data"
    },
    {
     "data": {
      "text/html": [
       "<table>\n",
       "<thead><tr><th></th><th scope=col>Dabi 110</th><th scope=col>Dabi 150</th><th scope=col>Warfarin</th></tr></thead>\n",
       "<tbody>\n",
       "\t<tr><th scope=row>No stroke</th><td>899.61013</td><td>699.69677</td><td>898.6931 </td></tr>\n",
       "\t<tr><th scope=row>Stroke</th><td> 81.38987</td><td> 63.30323</td><td> 81.3069 </td></tr>\n",
       "</tbody>\n",
       "</table>\n"
      ],
      "text/latex": [
       "\\begin{tabular}{r|lll}\n",
       "  & Dabi 110 & Dabi 150 & Warfarin\\\\\n",
       "\\hline\n",
       "\tNo stroke & 899.61013 & 699.69677 & 898.6931 \\\\\n",
       "\tStroke &  81.38987 &  63.30323 &  81.3069 \\\\\n",
       "\\end{tabular}\n"
      ],
      "text/markdown": [
       "\n",
       "| <!--/--> | Dabi 110 | Dabi 150 | Warfarin | \n",
       "|---|---|\n",
       "| No stroke | 899.61013 | 699.69677 | 898.6931  | \n",
       "| Stroke |  81.38987 |  63.30323 |  81.3069  | \n",
       "\n",
       "\n"
      ],
      "text/plain": [
       "           arm\n",
       "status      Dabi 110  Dabi 150  Warfarin\n",
       "  No stroke 899.61013 699.69677 898.6931\n",
       "  Stroke     81.38987  63.30323  81.3069"
      ]
     },
     "metadata": {},
     "output_type": "display_data"
    },
    {
     "data": {
      "text/plain": [
       "           arm\n",
       "status        Dabi 110   Dabi 150   Warfarin\n",
       "  No stroke  0.2463823  0.4273145 -0.6235562\n",
       "  Stroke    -0.8191275 -1.4206584  2.0730873"
      ]
     },
     "metadata": {},
     "output_type": "display_data"
    },
    {
     "data": {
      "text/plain": [
       "           arm\n",
       "status       Dabi 110  Dabi 150  Warfarin\n",
       "  No stroke  1.069335  1.748484 -2.705548\n",
       "  Stroke    -1.069335 -1.748484  2.705548"
      ]
     },
     "metadata": {},
     "output_type": "display_data"
    }
   ],
   "source": [
    "M <- as.table(rbind(c((981-74), (763-52), (980-100)), c(74, 52, 100)))\n",
    "     dimnames(M) <- list(status = c(\"No stroke\", \"Stroke\"),\n",
    "                         arm = c(\"Dabi 110\",\"Dabi 150\", \"Warfarin\"))\n",
    "     (Xsq <- chisq.test(M))  # Prints test summary\n",
    "     Xsq$observed   # observed counts (same as M)\n",
    "     Xsq$expected   # expected counts under the null\n",
    "     Xsq$residuals  # Pearson residuals\n",
    "     Xsq$stdres     # standardized residuals\n",
    "\n"
   ]
  },
  {
   "cell_type": "code",
   "execution_count": null,
   "metadata": {},
   "outputs": [],
   "source": [
    "df <- data.frame(n)"
   ]
  }
 ],
 "metadata": {
  "kernelspec": {
   "display_name": "R",
   "language": "R",
   "name": "ir"
  },
  "language_info": {
   "codemirror_mode": "r",
   "file_extension": ".r",
   "mimetype": "text/x-r-source",
   "name": "R",
   "pygments_lexer": "r",
   "version": "3.4.3"
  }
 },
 "nbformat": 4,
 "nbformat_minor": 2
}
