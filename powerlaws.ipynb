# For exploring power law distributions and gaining familiarity with them
# source("/home/james/go/src/bitbucket.org/carbocation/pubrank/scripts/powerlaws.R")

# See https://www.nature.com/articles/srep00812 to recognize that mixtures of power laws
# do not, themselves, yield a power law! Also, if you take the bottom half of data from a power
# law, you will not get a power law.

library(poweRlaw)

GetRanks <- function(x) {
    return(1+length(x)-seq(1, length(x)))
}

# Generate a vector with 5k power-law distributed values 
# with scaling factor of 3, starting at 1
x <- rpldis(50000, 1, 3, discrete_max=10000)

(function() {
    # Plot them. Note that the order (with regard to the rank of the x values) matters.
    plot(GetRanks(x), sort(x), log="xy", xlab="Rank", ylab="Value", main="Log scale")
})

# Take the bottom 95% of the distribution and see if it still looks like a power law (no)
(function() {
    N <- 0.95*length(x)
    #partials <- sort(x)[(length(x)-N):(length(x)-1)]
    partials <- sort(x)[1:N]
    plot(GetRanks(partials), sort(partials), log="xy", xlab="Rank", ylab="Value", main="Log scale")
})()

# Take the top 5% of the distribution and see if it still looks like a power law (yes)
(function() {
    N <- 0.05*length(x)
    partials <- sort(x)[(length(x)-N):(length(x)-1)]
    plot(GetRanks(partials), sort(partials), log="xy", xlab="Rank", ylab="Value", main="Log scale")
})
