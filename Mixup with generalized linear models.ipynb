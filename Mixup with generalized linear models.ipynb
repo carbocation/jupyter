{
 "cells": [
  {
   "cell_type": "markdown",
   "metadata": {},
   "source": [
    "# Mixup\n",
    "\n",
    "The [mixup paper](https://arxiv.org/abs/1710.09412) is for deep learning. Would it work with general linear models?"
   ]
  },
  {
   "cell_type": "code",
   "execution_count": 1,
   "metadata": {},
   "outputs": [],
   "source": [
    "#install.packages(\"glmnetUtils\")"
   ]
  },
  {
   "cell_type": "code",
   "execution_count": 2,
   "metadata": {},
   "outputs": [
    {
     "name": "stderr",
     "output_type": "stream",
     "text": [
      "Loading required package: Matrix\n",
      "Loading required package: foreach\n",
      "Loaded glmnet 2.0-16\n",
      "\n",
      "\n",
      "Attaching package: ‘glmnetUtils’\n",
      "\n",
      "The following objects are masked from ‘package:glmnet’:\n",
      "\n",
      "    cv.glmnet, glmnet\n",
      "\n"
     ]
    }
   ],
   "source": [
    "library(ggplot2)\n",
    "library(glmnet)\n",
    "library(glmnetUtils)"
   ]
  },
  {
   "cell_type": "markdown",
   "metadata": {},
   "source": [
    "Can we relearn the relationship"
   ]
  },
  {
   "cell_type": "code",
   "execution_count": 3,
   "metadata": {},
   "outputs": [],
   "source": [
    "df <- data.frame(\n",
    "    y1 = seq(1, 100) * 5,\n",
    "    y2 = seq(1, 100) / 23 - 8\n",
    ")\n",
    "\n",
    "df$y1 <- df$y1 - mean(df$y1)\n",
    "df$y2 <- df$y2 - mean(df$y2)"
   ]
  },
  {
   "cell_type": "code",
   "execution_count": 4,
   "metadata": {},
   "outputs": [
    {
     "data": {},
     "metadata": {},
     "output_type": "display_data"
    },
    {
     "data": {
      "image/png": "[encoded data removed]",
      "text/plain": [
       "plot without title"
      ]
     },
     "metadata": {},
     "output_type": "display_data"
    }
   ],
   "source": [
    "ggplot(df) + geom_point(aes(y1, y2))"
   ]
  },
  {
   "cell_type": "code",
   "execution_count": 5,
   "metadata": {},
   "outputs": [],
   "source": [
    "x.prop <- runif(length(df$y1) * length(df$y2))"
   ]
  },
  {
   "cell_type": "code",
   "execution_count": 6,
   "metadata": {},
   "outputs": [
    {
     "data": {
      "text/html": [
       "<ol class=list-inline>\n",
       "\t<li>0.724148501176387</li>\n",
       "\t<li>0.0613412472885102</li>\n",
       "\t<li>0.0606496927794069</li>\n",
       "\t<li>0.2217564182356</li>\n",
       "\t<li>0.0261791741941124</li>\n",
       "\t<li>0.397830955218524</li>\n",
       "</ol>\n"
      ],
      "text/latex": [
       "\\begin{enumerate*}\n",
       "\\item 0.724148501176387\n",
       "\\item 0.0613412472885102\n",
       "\\item 0.0606496927794069\n",
       "\\item 0.2217564182356\n",
       "\\item 0.0261791741941124\n",
       "\\item 0.397830955218524\n",
       "\\end{enumerate*}\n"
      ],
      "text/markdown": [
       "1. 0.724148501176387\n",
       "2. 0.0613412472885102\n",
       "3. 0.0606496927794069\n",
       "4. 0.2217564182356\n",
       "5. 0.0261791741941124\n",
       "6. 0.397830955218524\n",
       "\n",
       "\n"
      ],
      "text/plain": [
       "[1] 0.72414850 0.06134125 0.06064969 0.22175642 0.02617917 0.39783096"
      ]
     },
     "metadata": {},
     "output_type": "display_data"
    }
   ],
   "source": [
    "head(x.prop)"
   ]
  },
  {
   "cell_type": "markdown",
   "metadata": {},
   "source": [
    "## Exhaustive combination\n",
    "\n",
    "See https://stackoverflow.com/questions/15162741/what-is-rs-crossproduct-function"
   ]
  },
  {
   "cell_type": "code",
   "execution_count": 9,
   "metadata": {},
   "outputs": [],
   "source": [
    "z <- outer(df$y1, df$y2, FUN = \"+\")"
   ]
  },
  {
   "cell_type": "code",
   "execution_count": 10,
   "metadata": {},
   "outputs": [
    {
     "data": {
      "text/html": [
       "10000"
      ],
      "text/latex": [
       "10000"
      ],
      "text/markdown": [
       "10000"
      ],
      "text/plain": [
       "[1] 10000"
      ]
     },
     "metadata": {},
     "output_type": "display_data"
    }
   ],
   "source": [
    "length(c(z))"
   ]
  },
  {
   "cell_type": "code",
   "execution_count": 12,
   "metadata": {},
   "outputs": [],
   "source": [
    "y1rep <- rep(df$y1, length(df$y2))"
   ]
  },
  {
   "cell_type": "code",
   "execution_count": 13,
   "metadata": {},
   "outputs": [],
   "source": [
    "y2rep <- rep(df$y2, length(df$y1))"
   ]
  },
  {
   "cell_type": "code",
   "execution_count": 14,
   "metadata": {},
   "outputs": [],
   "source": [
    "bigdf <- data.frame(\n",
    "    posy1 = rep(0:49, times=length(df$y2)),\n",
    "    posy2 = rep(0:49, each=length(df$y1)),\n",
    "    y1 = y1rep,\n",
    "    y2 = y2rep,\n",
    "    combo = c(z),\n",
    "    portion = 0.5\n",
    ")"
   ]
  },
  {
   "cell_type": "code",
   "execution_count": 15,
   "metadata": {},
   "outputs": [
    {
     "data": {
      "text/html": [
       "<table>\n",
       "<thead><tr><th scope=col>posy1</th><th scope=col>posy2</th><th scope=col>y1</th><th scope=col>y2</th><th scope=col>combo</th><th scope=col>portion</th></tr></thead>\n",
       "<tbody>\n",
       "\t<tr><td>0        </td><td>0        </td><td>-247.5   </td><td>-2.152174</td><td>-249.6522</td><td>0.5      </td></tr>\n",
       "\t<tr><td>1        </td><td>0        </td><td>-242.5   </td><td>-2.108696</td><td>-244.6522</td><td>0.5      </td></tr>\n",
       "\t<tr><td>2        </td><td>0        </td><td>-237.5   </td><td>-2.065217</td><td>-239.6522</td><td>0.5      </td></tr>\n",
       "\t<tr><td>3        </td><td>0        </td><td>-232.5   </td><td>-2.021739</td><td>-234.6522</td><td>0.5      </td></tr>\n",
       "\t<tr><td>4        </td><td>0        </td><td>-227.5   </td><td>-1.978261</td><td>-229.6522</td><td>0.5      </td></tr>\n",
       "\t<tr><td>5        </td><td>0        </td><td>-222.5   </td><td>-1.934783</td><td>-224.6522</td><td>0.5      </td></tr>\n",
       "</tbody>\n",
       "</table>\n"
      ],
      "text/latex": [
       "\\begin{tabular}{r|llllll}\n",
       " posy1 & posy2 & y1 & y2 & combo & portion\\\\\n",
       "\\hline\n",
       "\t 0         & 0         & -247.5    & -2.152174 & -249.6522 & 0.5      \\\\\n",
       "\t 1         & 0         & -242.5    & -2.108696 & -244.6522 & 0.5      \\\\\n",
       "\t 2         & 0         & -237.5    & -2.065217 & -239.6522 & 0.5      \\\\\n",
       "\t 3         & 0         & -232.5    & -2.021739 & -234.6522 & 0.5      \\\\\n",
       "\t 4         & 0         & -227.5    & -1.978261 & -229.6522 & 0.5      \\\\\n",
       "\t 5         & 0         & -222.5    & -1.934783 & -224.6522 & 0.5      \\\\\n",
       "\\end{tabular}\n"
      ],
      "text/markdown": [
       "\n",
       "posy1 | posy2 | y1 | y2 | combo | portion | \n",
       "|---|---|---|---|---|---|\n",
       "| 0         | 0         | -247.5    | -2.152174 | -249.6522 | 0.5       | \n",
       "| 1         | 0         | -242.5    | -2.108696 | -244.6522 | 0.5       | \n",
       "| 2         | 0         | -237.5    | -2.065217 | -239.6522 | 0.5       | \n",
       "| 3         | 0         | -232.5    | -2.021739 | -234.6522 | 0.5       | \n",
       "| 4         | 0         | -227.5    | -1.978261 | -229.6522 | 0.5       | \n",
       "| 5         | 0         | -222.5    | -1.934783 | -224.6522 | 0.5       | \n",
       "\n",
       "\n"
      ],
      "text/plain": [
       "  posy1 posy2 y1     y2        combo     portion\n",
       "1 0     0     -247.5 -2.152174 -249.6522 0.5    \n",
       "2 1     0     -242.5 -2.108696 -244.6522 0.5    \n",
       "3 2     0     -237.5 -2.065217 -239.6522 0.5    \n",
       "4 3     0     -232.5 -2.021739 -234.6522 0.5    \n",
       "5 4     0     -227.5 -1.978261 -229.6522 0.5    \n",
       "6 5     0     -222.5 -1.934783 -224.6522 0.5    "
      ]
     },
     "metadata": {},
     "output_type": "display_data"
    },
    {
     "data": {
      "text/html": [
       "<table>\n",
       "<thead><tr><th></th><th scope=col>posy1</th><th scope=col>posy2</th><th scope=col>y1</th><th scope=col>y2</th><th scope=col>combo</th><th scope=col>portion</th></tr></thead>\n",
       "<tbody>\n",
       "\t<tr><th scope=row>9995</th><td>44      </td><td>49      </td><td>222.5   </td><td>1.934783</td><td>224.6522</td><td>0.5     </td></tr>\n",
       "\t<tr><th scope=row>9996</th><td>45      </td><td>49      </td><td>227.5   </td><td>1.978261</td><td>229.6522</td><td>0.5     </td></tr>\n",
       "\t<tr><th scope=row>9997</th><td>46      </td><td>49      </td><td>232.5   </td><td>2.021739</td><td>234.6522</td><td>0.5     </td></tr>\n",
       "\t<tr><th scope=row>9998</th><td>47      </td><td>49      </td><td>237.5   </td><td>2.065217</td><td>239.6522</td><td>0.5     </td></tr>\n",
       "\t<tr><th scope=row>9999</th><td>48      </td><td>49      </td><td>242.5   </td><td>2.108696</td><td>244.6522</td><td>0.5     </td></tr>\n",
       "\t<tr><th scope=row>10000</th><td>49      </td><td>49      </td><td>247.5   </td><td>2.152174</td><td>249.6522</td><td>0.5     </td></tr>\n",
       "</tbody>\n",
       "</table>\n"
      ],
      "text/latex": [
       "\\begin{tabular}{r|llllll}\n",
       "  & posy1 & posy2 & y1 & y2 & combo & portion\\\\\n",
       "\\hline\n",
       "\t9995 & 44       & 49       & 222.5    & 1.934783 & 224.6522 & 0.5     \\\\\n",
       "\t9996 & 45       & 49       & 227.5    & 1.978261 & 229.6522 & 0.5     \\\\\n",
       "\t9997 & 46       & 49       & 232.5    & 2.021739 & 234.6522 & 0.5     \\\\\n",
       "\t9998 & 47       & 49       & 237.5    & 2.065217 & 239.6522 & 0.5     \\\\\n",
       "\t9999 & 48       & 49       & 242.5    & 2.108696 & 244.6522 & 0.5     \\\\\n",
       "\t10000 & 49       & 49       & 247.5    & 2.152174 & 249.6522 & 0.5     \\\\\n",
       "\\end{tabular}\n"
      ],
      "text/markdown": [
       "\n",
       "| <!--/--> | posy1 | posy2 | y1 | y2 | combo | portion | \n",
       "|---|---|---|---|---|---|\n",
       "| 9995 | 44       | 49       | 222.5    | 1.934783 | 224.6522 | 0.5      | \n",
       "| 9996 | 45       | 49       | 227.5    | 1.978261 | 229.6522 | 0.5      | \n",
       "| 9997 | 46       | 49       | 232.5    | 2.021739 | 234.6522 | 0.5      | \n",
       "| 9998 | 47       | 49       | 237.5    | 2.065217 | 239.6522 | 0.5      | \n",
       "| 9999 | 48       | 49       | 242.5    | 2.108696 | 244.6522 | 0.5      | \n",
       "| 10000 | 49       | 49       | 247.5    | 2.152174 | 249.6522 | 0.5      | \n",
       "\n",
       "\n"
      ],
      "text/plain": [
       "      posy1 posy2 y1    y2       combo    portion\n",
       "9995  44    49    222.5 1.934783 224.6522 0.5    \n",
       "9996  45    49    227.5 1.978261 229.6522 0.5    \n",
       "9997  46    49    232.5 2.021739 234.6522 0.5    \n",
       "9998  47    49    237.5 2.065217 239.6522 0.5    \n",
       "9999  48    49    242.5 2.108696 244.6522 0.5    \n",
       "10000 49    49    247.5 2.152174 249.6522 0.5    "
      ]
     },
     "metadata": {},
     "output_type": "display_data"
    }
   ],
   "source": [
    "head(bigdf)\n",
    "tail(bigdf)"
   ]
  },
  {
   "cell_type": "markdown",
   "metadata": {},
   "source": [
    "## Can we jointly learn the two models using their linear combination?"
   ]
  },
  {
   "cell_type": "code",
   "execution_count": 16,
   "metadata": {},
   "outputs": [
    {
     "data": {
      "text/plain": [
       "\n",
       "Call:\n",
       "glm(formula = combo ~ posy1 + posy2 + portion, data = bigdf)\n",
       "\n",
       "Deviance Residuals: \n",
       "   Min      1Q  Median      3Q     Max  \n",
       "-126.1  -124.5     0.0   124.5   126.1  \n",
       "\n",
       "Coefficients: (1 not defined because of singularities)\n",
       "              Estimate Std. Error t value Pr(>|t|)    \n",
       "(Intercept) -123.56522    3.25174 -38.000   <2e-16 ***\n",
       "posy1          5.00000    0.08664  57.713   <2e-16 ***\n",
       "posy2          0.04348    0.08664   0.502    0.616    \n",
       "portion             NA         NA      NA       NA    \n",
       "---\n",
       "Signif. codes:  0 ‘***’ 0.001 ‘**’ 0.01 ‘*’ 0.05 ‘.’ 0.1 ‘ ’ 1\n",
       "\n",
       "(Dispersion parameter for gaussian family taken to be 15630.87)\n",
       "\n",
       "    Null deviance: 208328251  on 9999  degrees of freedom\n",
       "Residual deviance: 156261815  on 9997  degrees of freedom\n",
       "AIC: 124954\n",
       "\n",
       "Number of Fisher Scoring iterations: 2\n"
      ]
     },
     "metadata": {},
     "output_type": "display_data"
    }
   ],
   "source": [
    "summary(gmod <- glm(combo ~ posy1 + posy2 + portion, data=bigdf))"
   ]
  },
  {
   "cell_type": "markdown",
   "metadata": {},
   "source": [
    "### This is the same result as we would learn for the individual models"
   ]
  },
  {
   "cell_type": "code",
   "execution_count": 17,
   "metadata": {},
   "outputs": [
    {
     "data": {
      "text/plain": [
       "\n",
       "Call:\n",
       "glm(formula = y1 ~ posy1, data = bigdf)\n",
       "\n",
       "Deviance Residuals: \n",
       "   Min      1Q  Median      3Q     Max  \n",
       "  -125    -125       0     125     125  \n",
       "\n",
       "Coefficients:\n",
       "              Estimate Std. Error t value Pr(>|t|)    \n",
       "(Intercept) -122.50000    2.46321  -49.73   <2e-16 ***\n",
       "posy1          5.00000    0.08663   57.72   <2e-16 ***\n",
       "---\n",
       "Signif. codes:  0 ‘***’ 0.001 ‘**’ 0.01 ‘*’ 0.05 ‘.’ 0.1 ‘ ’ 1\n",
       "\n",
       "(Dispersion parameter for gaussian family taken to be 15628.13)\n",
       "\n",
       "    Null deviance: 208312500  on 9999  degrees of freedom\n",
       "Residual deviance: 156250000  on 9998  degrees of freedom\n",
       "AIC: 124951\n",
       "\n",
       "Number of Fisher Scoring iterations: 2\n"
      ]
     },
     "metadata": {},
     "output_type": "display_data"
    }
   ],
   "source": [
    "summary(glm(y1 ~ posy1, data=bigdf))"
   ]
  },
  {
   "cell_type": "code",
   "execution_count": 18,
   "metadata": {},
   "outputs": [
    {
     "data": {
      "text/plain": [
       "\n",
       "Call:\n",
       "glm(formula = y2 ~ posy1, data = bigdf)\n",
       "\n",
       "Deviance Residuals: \n",
       "   Min      1Q  Median      3Q     Max  \n",
       "-1.087  -1.087   0.000   1.087   1.087  \n",
       "\n",
       "Coefficients:\n",
       "              Estimate Std. Error t value Pr(>|t|)    \n",
       "(Intercept) -1.0652174  0.0214192  -49.73   <2e-16 ***\n",
       "posy1        0.0434783  0.0007533   57.72   <2e-16 ***\n",
       "---\n",
       "Signif. codes:  0 ‘***’ 0.001 ‘**’ 0.01 ‘*’ 0.05 ‘.’ 0.1 ‘ ’ 1\n",
       "\n",
       "(Dispersion parameter for gaussian family taken to be 1.181711)\n",
       "\n",
       "    Null deviance: 15751  on 9999  degrees of freedom\n",
       "Residual deviance: 11815  on 9998  degrees of freedom\n",
       "AIC: 30052\n",
       "\n",
       "Number of Fisher Scoring iterations: 2\n"
      ]
     },
     "metadata": {},
     "output_type": "display_data"
    }
   ],
   "source": [
    "summary(glm(y2 ~ posy1, data=bigdf))"
   ]
  },
  {
   "cell_type": "code",
   "execution_count": null,
   "metadata": {},
   "outputs": [],
   "source": []
  },
  {
   "cell_type": "code",
   "execution_count": null,
   "metadata": {},
   "outputs": [],
   "source": []
  }
 ],
 "metadata": {
  "kernelspec": {
   "display_name": "R",
   "language": "R",
   "name": "ir"
  },
  "language_info": {
   "codemirror_mode": "r",
   "file_extension": ".r",
   "mimetype": "text/x-r-source",
   "name": "R",
   "pygments_lexer": "r",
   "version": "3.4.4"
  }
 },
 "nbformat": 4,
 "nbformat_minor": 2
}
